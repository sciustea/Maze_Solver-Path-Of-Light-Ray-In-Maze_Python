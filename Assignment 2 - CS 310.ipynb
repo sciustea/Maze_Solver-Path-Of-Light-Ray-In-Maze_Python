{
 "cells": [
  {
   "cell_type": "code",
   "execution_count": 2,
   "metadata": {},
   "outputs": [
    {
     "name": "stdout",
     "output_type": "stream",
     "text": [
      "[(0, 0), (0, 1), (0, 2), (0, 3), (0, 2), (0, 1), (0, 0)]\n"
     ]
    }
   ],
   "source": [
    "# Stefana Ciustea\n",
    "# Assignment 2 - CS 310 at BC\n",
    "# 10/23/2022\n",
    "\n",
    "import numpy as np\n",
    "\n",
    "def maze_solver(maze):\n",
    "    np_maze = np.array(maze)\n",
    "    path = []\n",
    "    direction = 1  # 1=right, -1=left, 2=up, -2=down\n",
    "    position = (0, 0)\n",
    "    \n",
    "    while in_maze(position, np_maze):\n",
    "        position_y, position_x = position\n",
    "        path.append(position)\n",
    "        \n",
    "        if np_maze[position_y, position_x] == -1:\n",
    "            direction = -direction  # mirror reflection\n",
    "            \n",
    "        position = move(direction, position)\n",
    "        \n",
    "    return path\n",
    "\n",
    "def move(direction, position):\n",
    "    position_y, position_x = position\n",
    "    if direction == 1:\n",
    "        position_x += 1\n",
    "    elif direction == -1:\n",
    "        position_x -= 1\n",
    "    elif direction == 2:\n",
    "        position_y -= 1\n",
    "    elif direction == -2:\n",
    "        position_y += 1\n",
    "    return (position_y, position_x)\n",
    "\n",
    "def in_maze(position, np_maze):\n",
    "    shape_y, shape_x = np_maze.shape\n",
    "    position_y, position_x = position\n",
    "    in_x_axis = 0 <= position_x < shape_x\n",
    "    in_y_axis = 0 <= position_y < shape_y\n",
    "    return in_x_axis and in_y_axis\n",
    "\n",
    "# example maze\n",
    "maze = [\n",
    "    [0, 0, 0, -1],\n",
    "    [1, 0, 0, 1],\n",
    "    [0, 0, 0, 0],\n",
    "    [-1, 0, 0, 0]\n",
    "]\n",
    "\n",
    "path = maze_solver(maze)\n",
    "print(path)"
   ]
  },
  {
   "cell_type": "code",
   "execution_count": null,
   "metadata": {},
   "outputs": [],
   "source": []
  }
 ],
 "metadata": {
  "kernelspec": {
   "display_name": "Python 3 (ipykernel)",
   "language": "python",
   "name": "python3"
  },
  "language_info": {
   "codemirror_mode": {
    "name": "ipython",
    "version": 3
   },
   "file_extension": ".py",
   "mimetype": "text/x-python",
   "name": "python",
   "nbconvert_exporter": "python",
   "pygments_lexer": "ipython3",
   "version": "3.9.13"
  }
 },
 "nbformat": 4,
 "nbformat_minor": 2
}
